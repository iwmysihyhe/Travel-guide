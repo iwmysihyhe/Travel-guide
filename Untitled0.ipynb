{
  "nbformat": 4,
  "nbformat_minor": 0,
  "metadata": {
    "colab": {
      "provenance": [],
      "authorship_tag": "ABX9TyOFDAsuhoQkGOWYP9F0Deop",
      "include_colab_link": true
    },
    "kernelspec": {
      "name": "python3",
      "display_name": "Python 3"
    },
    "language_info": {
      "name": "python"
    }
  },
  "cells": [
    {
      "cell_type": "markdown",
      "metadata": {
        "id": "view-in-github",
        "colab_type": "text"
      },
      "source": [
        "<a href=\"https://colab.research.google.com/github/iwmysihyhe/Travel-guide/blob/main/Untitled0.ipynb\" target=\"_parent\"><img src=\"https://colab.research.google.com/assets/colab-badge.svg\" alt=\"Open In Colab\"/></a>"
      ]
    },
    {
      "cell_type": "markdown",
      "source": [
        "This is my own function called fast_matrix_product."
      ],
      "metadata": {
        "id": "dJrnJlCyCcuX"
      }
    },
    {
      "cell_type": "code",
      "source": [
        "import numpy as np\n",
        "\n",
        "\n",
        "def fast_matrix_product(mat1, mat2):\n",
        "    assert mat1.shape[1] == mat2.shape[0]\n",
        "    result = []\n",
        "    for r in range(mat1.shape[0]):\n",
        "        column = []\n",
        "        for c in range(mat2.shape[1]):\n",
        "            value = np.dot(mat1[r, :], mat2[:, c])\n",
        "            column.append(value)\n",
        "        result.append(column)\n",
        "    return np.array(result)\n",
        "\n",
        "\n",
        "matrix1 = np.random.rand(3, 3)\n",
        "matrix2 = np.random.rand(3, 3)\n",
        "\n",
        "print(fast_matrix_product(matrix1, matrix2))\n",
        "print(matrix1 @ matrix2)"
      ],
      "metadata": {
        "colab": {
          "base_uri": "https://localhost:8080/"
        },
        "id": "BRujJ8D_RDE5",
        "outputId": "235e81cf-e6a7-4bb2-c617-57838e660d11"
      },
      "execution_count": 92,
      "outputs": [
        {
          "output_type": "stream",
          "name": "stdout",
          "text": [
            "[[0.98327752 0.45762849 0.87915714]\n",
            " [1.49364029 0.92094164 0.77346022]\n",
            " [1.14651201 0.47773793 0.50337843]]\n",
            "[[0.98327752 0.45762849 0.87915714]\n",
            " [1.49364029 0.92094164 0.77346022]\n",
            " [1.14651201 0.47773793 0.50337843]]\n"
          ]
        }
      ]
    },
    {
      "cell_type": "markdown",
      "source": [
        "Reasons\n",
        "1.This function decreases a for loop, so this may speed up the arithmetic.\n",
        "2.By putting for loop about c in for loop about r, this function amend the order to a better one.\n",
        "3.By using np.dot, this funtion increases the speed and saves time."
      ],
      "metadata": {
        "id": "GP71V9UDq0iM"
      }
    },
    {
      "cell_type": "markdown",
      "source": [
        "The following are the checks  for random 2 by 2, 3 by 3, 4 by 4, and 5 by 5 matrices"
      ],
      "metadata": {
        "id": "moaWzwAVC6dq"
      }
    },
    {
      "cell_type": "code",
      "source": [
        "import numpy.testing as npt\n",
        "matrix1 = np.random.rand(2, 2)\n",
        "matrix2 = np.random.rand(2, 2)\n",
        "npt.assert_equal(fast_matrix_product(matrix1, matrix2), matrix1 @ matrix2)"
      ],
      "metadata": {
        "id": "fgKq0KDlSnfK"
      },
      "execution_count": 94,
      "outputs": []
    },
    {
      "cell_type": "code",
      "source": [
        "import numpy.testing as npt\n",
        "matrix1 = np.random.rand(3, 3)\n",
        "matrix2 = np.random.rand(3, 3)\n",
        "npt.assert_almost_equal(fast_matrix_product(matrix1, matrix2), matrix1 @ matrix2)"
      ],
      "metadata": {
        "id": "brW5lI5PWFoL"
      },
      "execution_count": 95,
      "outputs": []
    },
    {
      "cell_type": "code",
      "source": [
        "import numpy.testing as npt\n",
        "matrix1 = np.random.rand(4, 4)\n",
        "matrix2 = np.random.rand(4, 4)\n",
        "npt.assert_almost_equal(fast_matrix_product(matrix1, matrix2), matrix1 @ matrix2)"
      ],
      "metadata": {
        "id": "MaqsV7rLaooq"
      },
      "execution_count": 96,
      "outputs": []
    },
    {
      "cell_type": "code",
      "source": [
        "import numpy.testing as npt\n",
        "matrix1 = np.random.rand(5, 5)\n",
        "matrix2 = np.random.rand(5, 5)\n",
        "npt.assert_almost_equal(fast_matrix_product(matrix1, matrix2), matrix1 @ matrix2)"
      ],
      "metadata": {
        "id": "k5IuDiK0asnp"
      },
      "execution_count": 97,
      "outputs": []
    },
    {
      "cell_type": "code",
      "source": [
        "import numpy as np\n",
        "\n",
        "\n",
        "def slow_matrix_product(mat1, mat2):\n",
        "    \"\"\"Multiply two matrices.\"\"\"\n",
        "    assert mat1.shape[1] == mat2.shape[0]\n",
        "    result = []\n",
        "    for c in range(mat2.shape[1]):\n",
        "        column = []\n",
        "        for r in range(mat1.shape[0]):\n",
        "            value = 0\n",
        "            for i in range(mat1.shape[1]):\n",
        "                value += mat1[r, i] * mat2[i, c]\n",
        "            column.append(value)\n",
        "        result.append(column)\n",
        "    return np.array(result).transpose()\n",
        "\n",
        "\n",
        "matrix1 = np.random.rand(10, 10)\n",
        "matrix2 = np.random.rand(10, 10)\n",
        "\n",
        "print(slow_matrix_product(matrix1, matrix2))\n",
        "print(matrix1 @ matrix2)"
      ],
      "metadata": {
        "colab": {
          "base_uri": "https://localhost:8080/"
        },
        "id": "YIZ-Adb9eTZ0",
        "outputId": "67881142-3979-4a2d-a6ae-b36bb400c6c1"
      },
      "execution_count": 98,
      "outputs": [
        {
          "output_type": "stream",
          "name": "stdout",
          "text": [
            "[[3.12948033 2.60669452 1.85110127 3.43371566 1.88699493 2.59586031\n",
            "  3.32858243 3.28310813 2.09429098 2.9980715 ]\n",
            " [3.33799225 3.05676958 2.06771243 3.47903373 2.01969505 3.13753902\n",
            "  3.42708194 3.69804063 1.60057807 2.96590344]\n",
            " [3.52498255 2.91717884 1.93291914 3.79178846 2.36281282 2.57658779\n",
            "  3.55351755 3.44675121 2.53953583 3.39139655]\n",
            " [3.84536909 2.72931849 2.01966516 3.04923558 1.60110082 2.78730314\n",
            "  3.85232871 3.61451783 2.37880724 2.7339797 ]\n",
            " [2.81279581 2.0128451  1.69575618 3.20117635 1.92002458 2.07821442\n",
            "  3.04352303 2.82405454 1.76091408 2.74126836]\n",
            " [3.09052499 2.40599396 1.81555774 3.02605002 2.15292414 2.24733602\n",
            "  2.86101678 3.12103273 1.37493265 2.28354475]\n",
            " [2.73698528 2.59387655 1.59142335 2.59771203 1.49250499 2.50180743\n",
            "  2.83769804 2.94489684 1.59403758 2.46117716]\n",
            " [2.15036208 2.76879413 1.21598181 2.33481684 1.11435326 2.29825653\n",
            "  2.27133801 2.68868446 1.81253409 2.50736152]\n",
            " [2.49033673 2.4027424  1.71493663 2.89328897 1.65974361 2.42116134\n",
            "  3.26724425 3.19530464 1.86787068 3.18776117]\n",
            " [3.48274279 3.16246869 1.92133392 3.46837829 2.14916875 2.99378025\n",
            "  3.56408307 3.83736558 2.24554275 3.45511091]]\n",
            "[[3.12948033 2.60669452 1.85110127 3.43371566 1.88699493 2.59586031\n",
            "  3.32858243 3.28310813 2.09429098 2.9980715 ]\n",
            " [3.33799225 3.05676958 2.06771243 3.47903373 2.01969505 3.13753902\n",
            "  3.42708194 3.69804063 1.60057807 2.96590344]\n",
            " [3.52498255 2.91717884 1.93291914 3.79178846 2.36281282 2.57658779\n",
            "  3.55351755 3.44675121 2.53953583 3.39139655]\n",
            " [3.84536909 2.72931849 2.01966516 3.04923558 1.60110082 2.78730314\n",
            "  3.85232871 3.61451783 2.37880724 2.7339797 ]\n",
            " [2.81279581 2.0128451  1.69575618 3.20117635 1.92002458 2.07821442\n",
            "  3.04352303 2.82405454 1.76091408 2.74126836]\n",
            " [3.09052499 2.40599396 1.81555774 3.02605002 2.15292414 2.24733602\n",
            "  2.86101678 3.12103273 1.37493265 2.28354475]\n",
            " [2.73698528 2.59387655 1.59142335 2.59771203 1.49250499 2.50180743\n",
            "  2.83769804 2.94489684 1.59403758 2.46117716]\n",
            " [2.15036208 2.76879413 1.21598181 2.33481684 1.11435326 2.29825653\n",
            "  2.27133801 2.68868446 1.81253409 2.50736152]\n",
            " [2.49033673 2.4027424  1.71493663 2.89328897 1.65974361 2.42116134\n",
            "  3.26724425 3.19530464 1.86787068 3.18776117]\n",
            " [3.48274279 3.16246869 1.92133392 3.46837829 2.14916875 2.99378025\n",
            "  3.56408307 3.83736558 2.24554275 3.45511091]]\n"
          ]
        }
      ]
    },
    {
      "cell_type": "code",
      "source": [
        "matrix_size = [2, 100, 200, 300, 400, 500, 600, 700, 800, 900, 1000]\n",
        "\n",
        "slow_times = []\n",
        "fast_times = []\n",
        "\n",
        "for n in matrix_size:\n",
        "  test_mat1 = np.random.rand(n,n)\n",
        "  test_mat2 = np.random.rand(n,n)\n",
        "  t_slow = %timeit -o -q slow_matrix_product(test_mat1, test_mat2)\n",
        "  t_fast = %timeit -o -q fast_matrix_product(test_mat1, test_mat2)\n",
        "  slow_times.append(t_slow.average)\n",
        "  fast_times.append(t_fast.average)\n",
        "  print(f\"[Slow] [N={n}] Average Run time: {t_slow.average}\")\n",
        "  print(f\"[Fast] [N={n}] Average Run Time: {t_fast.average}\")"
      ],
      "metadata": {
        "colab": {
          "base_uri": "https://localhost:8080/"
        },
        "id": "J69P32-meZJ2",
        "outputId": "1fd1a466-ccdb-4b6a-ab4e-e3d1e11df8cb"
      },
      "execution_count": 101,
      "outputs": [
        {
          "output_type": "stream",
          "name": "stdout",
          "text": [
            "[Slow] [N=2] Average Run time: 9.93958007143062e-06\n",
            "[Fast] [N=2] Average Run Time: 8.405822945712445e-06\n",
            "[Slow] [N=100] Average Run time: 0.6261869235716274\n",
            "[Fast] [N=100] Average Run Time: 0.018127022969999546\n",
            "[Slow] [N=200] Average Run time: 3.977512187857428\n",
            "[Fast] [N=200] Average Run Time: 0.08653514061427683\n",
            "[Slow] [N=300] Average Run time: 13.583326477143212\n",
            "[Fast] [N=300] Average Run Time: 0.18978247382856353\n",
            "[Slow] [N=400] Average Run time: 34.75091969357137\n",
            "[Fast] [N=400] Average Run Time: 0.3308987742854827\n",
            "[Slow] [N=500] Average Run time: 65.01990436628564\n",
            "[Fast] [N=500] Average Run Time: 0.5578512991427748\n",
            "[Slow] [N=600] Average Run time: 111.74685452714324\n",
            "[Fast] [N=600] Average Run Time: 0.8633474907143993\n",
            "[Slow] [N=700] Average Run time: 177.38746841414235\n",
            "[Fast] [N=700] Average Run Time: 1.3548562171438658\n",
            "[Slow] [N=800] Average Run time: 257.2371667382852\n",
            "[Fast] [N=800] Average Run Time: 1.831374155714002\n",
            "[Slow] [N=900] Average Run time: 377.11598796399994\n",
            "[Fast] [N=900] Average Run Time: 2.5114789179996087\n",
            "[Slow] [N=1000] Average Run time: 514.7190673674288\n",
            "[Fast] [N=1000] Average Run Time: 3.150146514000101\n"
          ]
        }
      ]
    },
    {
      "cell_type": "code",
      "source": [
        "import matplotlib.pylab as plt\n",
        "import numpy as np\n",
        "plt.loglog(matrix_size, slow_times)\n",
        "plt.loglog(matrix_size, fast_times)\n",
        "\n",
        "\n",
        "\n",
        "plt.xlabel(\"Matrix sizes\")\n",
        "plt.ylabel(\"Time\")\n",
        "plt.title(\"Matrix mattric product\")\n",
        "plt.savefig(\"myplot.pdf\")"
      ],
      "metadata": {
        "colab": {
          "base_uri": "https://localhost:8080/",
          "height": 476
        },
        "id": "7jei_8xGhkIB",
        "outputId": "22e99350-aed7-4a6b-ce1a-33a3367d88ff"
      },
      "execution_count": 103,
      "outputs": [
        {
          "output_type": "display_data",
          "data": {
            "text/plain": [
              "<Figure size 640x480 with 1 Axes>"
            ],
            "image/png": "[encoded data removed]"
          },
          "metadata": {}
        }
      ]
    },
    {
      "cell_type": "code",
      "source": [],
      "metadata": {
        "id": "Ttt5IC9LbR2B"
      },
      "execution_count": null,
      "outputs": []
    }
  ]
}