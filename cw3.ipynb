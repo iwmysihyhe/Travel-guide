{
  "nbformat": 4,
  "nbformat_minor": 0,
  "metadata": {
    "colab": {
      "provenance": [],
      "authorship_tag": "ABX9TyPhGiB2diNXnU4bkzVLRS9r",
      "include_colab_link": true
    },
    "kernelspec": {
      "name": "python3",
      "display_name": "Python 3"
    },
    "language_info": {
      "name": "python"
    }
  },
  "cells": [
    {
      "cell_type": "markdown",
      "metadata": {
        "id": "view-in-github",
        "colab_type": "text"
      },
      "source": [
        "<a href=\"https://colab.research.google.com/github/iwmysihyhe/Travel-guide/blob/main/cw3.ipynb\" target=\"_parent\"><img src=\"https://colab.research.google.com/assets/colab-badge.svg\" alt=\"Open In Colab\"/></a>"
      ]
    },
    {
      "cell_type": "code",
      "execution_count": 25,
      "metadata": {
        "id": "a-Kdzf0uPKBd"
      },
      "outputs": [],
      "source": [
        "import numpy as np\n",
        "from scipy.sparse import coo_matrix, csr_matrix\n",
        "from scipy.sparse.linalg import LinearOperator, gmres, cg\n",
        "\n",
        "\n",
        "class CSRMatrix(LinearOperator):\n",
        "    def __init__(self, input_matrix):\n",
        "        if not isinstance(input_matrix, coo_matrix):\n",
        "          input_matrix = input_matrix.tocoo()\n",
        "\n",
        "        self.shape = input_matrix.shape\n",
        "        self.dtype = input_matrix.dtype\n",
        "        self.data = input_matrix.data\n",
        "        self.indices = input_matrix.col\n",
        "        self.indptr = np.zeros(self.shape[0] + 1, dtype=int)\n",
        "        np.add.at(self.indptr, input_matrix.row + 1, 1)\n",
        "        np.cumsum(self.indptr, out=self.indptr)\n",
        "\n",
        "    def __add__(self, other):\n",
        "        coo_self = coo_matrix((self.data, (self.indptr[:-1], self.indices)), shape=self.shape)\n",
        "        coo_other = coo_matrix((other.data, (other.indptr[:-1], other.indices)), shape=other.shape)\n",
        "\n",
        "        result_coo = coo_self + coo_other\n",
        "        return CSRMatrix(result_coo)\n",
        "\n",
        "    def _matvec(self, vector):\n",
        "        result = np.zeros(self.shape[0], dtype=self.dtype)\n",
        "        for i in range(self.shape[0]):\n",
        "            result[i] = np.dot(self.data[self.indptr[i]:self.indptr[i+1]], vector[self.indices[self.indptr[i]:self.indptr[i+1]]])\n",
        "        return result"
      ]
    },
    {
      "cell_type": "code",
      "source": [
        "def test_add():\n",
        "    mat1 = coo_matrix(([1, 2, 3], ([0, 1, 2], [0, 1, 2])), shape=(3, 3))\n",
        "    mat2 = coo_matrix(([4, 5, 6], ([0, 1, 2], [0, 1, 2])), shape=(3, 3))\n",
        "    csr1 = CSRMatrix(mat1)\n",
        "    csr2 = CSRMatrix(mat2)\n",
        "    result = csr1 + csr2\n",
        "    assert np.allclose(result.data, [5, 7, 9]), \"The result is wrong.\"\n",
        "    assert np.allclose(result.indices, [0, 1, 2]), \"The result is wrong.\"\n",
        "    assert np.allclose(result.indptr, [0, 1, 2, 3]), \"The result is wrong.\"\n",
        "    print(\"Pass the test.\")\n",
        "\n",
        "def test_matvec():\n",
        "    mat = coo_matrix(([1, 2, 3], ([0, 1, 2], [0, 1, 2])), shape=(3, 3))\n",
        "    csr = CSRMatrix(mat)\n",
        "    vector = np.array([1, 1, 1])\n",
        "    result = csr @ vector\n",
        "    assert np.allclose(result, [1, 2, 3]), \"The result is wrong.\"\n",
        "    print(\"Pass the test.\")\n",
        "\n",
        "test_add()\n",
        "test_matvec()\n",
        "\n"
      ],
      "metadata": {
        "colab": {
          "base_uri": "https://localhost:8080/"
        },
        "id": "KbACpjLbSIs5",
        "outputId": "176d8b57-29be-4ea3-a6c5-ed7dc849af23"
      },
      "execution_count": 26,
      "outputs": [
        {
          "output_type": "stream",
          "name": "stdout",
          "text": [
            "Pass the test.\n",
            "Pass the test.\n"
          ]
        }
      ]
    },
    {
      "cell_type": "code",
      "source": [
        "import timeit\n",
        "import numpy as np\n",
        "import matplotlib.pyplot as plt\n",
        "\n",
        "def matvec(self, vector):\n",
        "  return self._matvec(vector)\n",
        "\n",
        "matrix_sizes = [10, 100, 1000, 5000, 10000, 20000, 50000, 100000]\n",
        "csr_times = []\n",
        "dense_times = []\n",
        "\n",
        "for size in matrix_sizes:\n",
        "    row = np.random.randint(0, size, size)\n",
        "    col = np.random.randint(0, size, size)\n",
        "    data = np.random.rand(size)\n",
        "    coo = coo_matrix((data, (row, col)), shape=(size, size))\n",
        "    csr = CSRMatrix(coo)\n",
        "    dense = coo.toarray()\n",
        "    vector = np.random.rand(size)\n",
        "\n",
        "    csr_time = timeit.timeit(lambda: csr.matvec(vector), number=10)\n",
        "    csr_times.append(csr_time / 10)\n",
        "\n",
        "    dense_time = timeit.timeit(lambda: dense @ vector, number=10)\n",
        "    dense_times.append(dense_time / 10)\n",
        "\n",
        "plt.figure(figsize=(8, 5))\n",
        "plt.plot(matrix_sizes, csr_times, label=\"CSRMatrix\", marker=\"o\")\n",
        "plt.plot(matrix_sizes, dense_times, label=\"Dense\", marker=\"s\")\n",
        "plt.xlabel(\"Matrix Size\")\n",
        "plt.ylabel(\"Average Time (seconds)\")\n",
        "plt.legend()\n",
        "plt.grid()\n",
        "plt.show()\n",
        "\n",
        "\n"
      ],
      "metadata": {
        "colab": {
          "base_uri": "https://localhost:8080/",
          "height": 465
        },
        "id": "4quubCQgsgwW",
        "outputId": "5cc02c2c-2c7c-423c-96a7-8b24e55b01cf"
      },
      "execution_count": 32,
      "outputs": [
        {
          "output_type": "display_data",
          "data": {
            "text/plain": [
              "<Figure size 800x500 with 1 Axes>"
            ],
            "image/png": "[encoded data removed]"
          },
          "metadata": {}
        }
      ]
    },
    {
      "cell_type": "markdown",
      "source": [
        "Comment: The plot shows that the time needed to compute a dense matrix-vector product using Numpy is less than the time needed to compute a csr matrix-vector product using matvec when the matric size is small. However, when the volume of matrix size is much larger, the time needed to compute a dense matrix-vector product using Numpy is much more than that to compute csr product."
      ],
      "metadata": {
        "id": "tdrsi9sF3uDg"
      }
    },
    {
      "cell_type": "code",
      "source": [
        "\n",
        "\n",
        "def solver_validation():\n",
        "    size = 10\n",
        "    A = np.random.rand(size, size)\n",
        "    symmetric_positive_definite = A.T @ A\n",
        "    coo = coo_matrix(symmetric_positive_definite)\n",
        "    coo_ = coo_matrix((np.random.rand(size), (np.random.randint(0, size, size), np.random.randint(0, size, size))), shape=(size, size))\n",
        "    csr = CSRMatrix(coo)\n",
        "    csr_ = CSRMatrix(coo_)\n",
        "    vector = np.random.rand(size)\n",
        "\n",
        "    result_gmres, _ = gmres(csr, vector)\n",
        "    result_cg, _ = cg(csr, vector)\n",
        "    result_gmres_, _ = gmres(csr_, vector)\n",
        "    result_cg_, _ = cg(csr_, vector)\n",
        "\n",
        "    print(\"GMRES result(Positive definite matrix):\", result_gmres)\n",
        "    print(\"CG result(Positive definite matrix):\", result_cg)\n",
        "    print(\"GMRES result(random matrix):\", result_gmres_)\n",
        "    print(\"CG result(random matrix):\", result_cg_)\n",
        "\n",
        "solver_validation()"
      ],
      "metadata": {
        "colab": {
          "base_uri": "https://localhost:8080/"
        },
        "id": "HIoE-lsU51K-",
        "outputId": "b93de283-bff5-4b85-c3af-7b2811aa5edc"
      },
      "execution_count": 37,
      "outputs": [
        {
          "output_type": "stream",
          "name": "stdout",
          "text": [
            "GMRES result(Positive definite matrix): [ -45.31409529  294.43222851  -16.8111659   398.47650442  104.50365445\n",
            "   75.98310286 -264.69229546 -375.48855253  -20.92002673  -12.94253497]\n",
            "CG result(Positive definite matrix): [ -45.31409529  294.43222852  -16.8111659   398.47650443  104.50365444\n",
            "   75.98310286 -264.69229545 -375.48855252  -20.92002674  -12.94253499]\n",
            "GMRES result(random matrix): [-1.13549331e+12  0.00000000e+00  1.31378755e+15  6.27757153e+13\n",
            "  2.15257424e+15 -2.08935826e+13 -1.25000000e-01  1.00000000e+00\n",
            " -7.67820355e+14  1.25000000e+00]\n",
            "CG result(random matrix): [ 2.54895722e+07  1.74389387e+07 -3.43232188e+07 -4.11181474e+07\n",
            "  2.68253814e+07 -8.10354067e+07 -1.57589984e+07  7.33372384e+06\n",
            "  2.41141211e+07 -1.15669774e+08]\n"
          ]
        }
      ]
    },
    {
      "cell_type": "markdown",
      "source": [
        "Comment: When the matrix is positively defined, then the results of GMRES and CG are almost equal. When the matrix is a random metrix which is non-positively defined, the results are not equal."
      ],
      "metadata": {
        "id": "AFGdxdIT8mOW"
      }
    }
  ]
}