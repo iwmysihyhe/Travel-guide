{
  "nbformat": 4,
  "nbformat_minor": 0,
  "metadata": {
    "colab": {
      "provenance": [],
      "gpuType": "T4",
      "authorship_tag": "ABX9TyPCibXpwOtX/bXZqW2RWLWD",
      "include_colab_link": true
    },
    "kernelspec": {
      "name": "python3",
      "display_name": "Python 3"
    },
    "language_info": {
      "name": "python"
    },
    "accelerator": "GPU"
  },
  "cells": [
    {
      "cell_type": "markdown",
      "metadata": {
        "id": "view-in-github",
        "colab_type": "text"
      },
      "source": [
        "<a href=\"https://colab.research.google.com/github/iwmysihyhe/Travel-guide/blob/main/cw4.ipynb\" target=\"_parent\"><img src=\"https://colab.research.google.com/assets/colab-badge.svg\" alt=\"Open In Colab\"/></a>"
      ]
    },
    {
      "cell_type": "code",
      "execution_count": 1,
      "metadata": {
        "id": "tPR4OA7v0TMG"
      },
      "outputs": [],
      "source": [
        "import numpy as np\n",
        "from scipy.sparse import diags, kron\n",
        "\n",
        "def lap_mat_2d(n):\n",
        "    main_diag = -4 * np.ones(n * n)\n",
        "    side_diag = np.ones(n * n - 1)\n",
        "    side_diag[np.arange(1, n * n) % n == 0] = 0\n",
        "    up_down_diag = np.ones(n * n - n)\n",
        "\n",
        "    diagonals = [main_diag, side_diag, side_diag, up_down_diag, up_down_diag]\n",
        "    offsets = [0, 1, -1, n, -n]\n",
        "\n",
        "    lap_2d = diags(diagonals, offsets, format=\"csr\")\n",
        "    return lap_2d"
      ]
    },
    {
      "cell_type": "code",
      "source": [
        "def exp_timestep_2d(CA, u):\n",
        "  return u + CA @ u\n"
      ],
      "metadata": {
        "id": "TePm0m8k0mee"
      },
      "execution_count": 2,
      "outputs": []
    },
    {
      "cell_type": "code",
      "source": [
        "def boundary_conditions(u, N):\n",
        "\n",
        "  u = u.reshape((N, N))\n",
        "  u[:, 0] = 5\n",
        "  u[:, -1] = 0\n",
        "  u[0, :] = 0\n",
        "  u[-1, :] = 0\n",
        "  return u.flatten()\n",
        "\n",
        "\n",
        "\n"
      ],
      "metadata": {
        "id": "OoYSGfyY0q1-"
      },
      "execution_count": 3,
      "outputs": []
    },
    {
      "cell_type": "code",
      "source": [
        "def solve_2d_heat_exp(u_0, T, delta_x, delta_t, alpha):\n",
        "    N = int(len(u_0)**0.5)\n",
        "    time_steps = int(T / delta_t)\n",
        "    r = alpha * delta_t / delta_x**2\n",
        "    if r > 0.25:\n",
        "        raise ValueError(\"Explicit method is unstable (r > 0.25). Adjust delta_t or delta_x.\")\n",
        "\n",
        "    A = lap_mat_2d(N)\n",
        "    CA = r * A\n",
        "\n",
        "    u = u_0.copy()\n",
        "    usteps = [u.copy()]\n",
        "\n",
        "    center_idx = (N // 2) * N + (N // 2)\n",
        "\n",
        "    target_time = None\n",
        "\n",
        "    for t in range(time_steps):\n",
        "        u = exp_timestep_2d(CA, u)\n",
        "        u = boundary_conditions(u, N)\n",
        "        usteps.append(u.copy())\n",
        "\n",
        "        if target_time is None and u[center_idx] >= 1:\n",
        "            target_time = t * delta_t\n",
        "\n",
        "    return target_time\n"
      ],
      "metadata": {
        "id": "uul1gIlu3U4A"
      },
      "execution_count": 4,
      "outputs": []
    },
    {
      "cell_type": "code",
      "source": [
        "N = 120\n",
        "delta_x = 2 / N\n",
        "delta_t = 0.00005\n",
        "alpha = 1\n",
        "T = 2\n",
        "\n",
        "u_0 = np.zeros((N, N))\n",
        "u_0[:, 0] = 5\n",
        "u_0 = u_0.flatten()\n",
        "\n",
        "t = solve_2d_heat_exp(u_0, T, delta_x, delta_t, alpha)\n",
        "\n",
        "if t is not None:\n",
        "    print(f\"The target time t* (center reaches u=1) is approximately {t:.12f} seconds.\")\n",
        "else:\n",
        "    print(\"The target temperature was not reached within the simulated time.\")\n"
      ],
      "metadata": {
        "colab": {
          "base_uri": "https://localhost:8080/"
        },
        "id": "iLTui8Vc0udF",
        "outputId": "1cd041f9-daf5-4a9f-cee3-0e5193de4902"
      },
      "execution_count": 5,
      "outputs": [
        {
          "output_type": "stream",
          "name": "stdout",
          "text": [
            "The target time t* (center reaches u=1) is approximately 0.431200000000 seconds.\n"
          ]
        }
      ]
    },
    {
      "cell_type": "markdown",
      "source": [
        "Comment: The code above showed an explicit time-stepping method to solve this heat equation by using CPU."
      ],
      "metadata": {
        "id": "4yy9Ikt0QugH"
      }
    },
    {
      "cell_type": "code",
      "source": [
        "import matplotlib.pyplot as plt\n",
        "t_real =0.424011387033\n",
        "\n",
        "grid_sizes = [10, 20, 30, 40, 50, 60, 70, 80, 90, 100]\n",
        "t = []\n",
        "for N in grid_sizes:\n",
        "\n",
        "    delta_x = 2 / N\n",
        "    delta_t = 0.0001\n",
        "    alpha = 1\n",
        "    T = 2\n",
        "\n",
        "    u_0 = np.zeros((N, N), dtype=np.float32)\n",
        "    u_0[:, 0] = 5\n",
        "    u_0 = u_0.flatten()\n",
        "\n",
        "    t_cal = solve_2d_heat_exp(u_0, delta_x, delta_t, alpha)\n",
        "\n",
        "    t.append(t_cal)\n",
        "\n",
        "errors = [abs(t_cal - t_real) for t_cal in t]\n",
        "\n",
        "plt.figure(figsize=(8, 5))\n",
        "plt.plot(grid_sizes, errors, marker=\"o\", label=\"Error\")\n",
        "plt.xlabel(\"Grid Size (N)\")\n",
        "plt.ylabel(\"Error\")\n",
        "plt.title(\"Convergence of Computed t* to Actual Time (CPU)\")\n",
        "plt.xscale(\"log\")\n",
        "plt.yscale(\"log\")\n",
        "plt.legend()\n",
        "plt.grid(True, which=\"both\", linestyle=\"--\", linewidth=0.5)\n",
        "plt.show()"
      ],
      "metadata": {
        "colab": {
          "base_uri": "https://localhost:8080/",
          "height": 492
        },
        "id": "grznUurj1Vai",
        "outputId": "a6c24507-4a41-41f1-9930-d21008fbcecc"
      },
      "execution_count": 13,
      "outputs": [
        {
          "output_type": "display_data",
          "data": {
            "text/plain": [
              "<Figure size 800x500 with 1 Axes>"
            ],
            "image/png": "[encoded data removed]"
          },
          "metadata": {}
        }
      ]
    },
    {
      "cell_type": "markdown",
      "source": [
        "Comment: Here is the plot about the convergence of computed time t\n",
        " against the actual time."
      ],
      "metadata": {
        "id": "VJYNKVttRB_N"
      }
    },
    {
      "cell_type": "code",
      "source": [
        "import numpy as np\n",
        "import matplotlib.pyplot as plt\n",
        "\n",
        "def solve_2d_heat_stability(u_0, T, delta_x, delta_t, alpha, N):\n",
        "    \"\"\"\n",
        "    用显式方法求解二维热方程，并检查稳定性。\n",
        "    \"\"\"\n",
        "    r = alpha * delta_t / delta_x**2\n",
        "    print(f\"Stability parameter r = {r:.4f}\")\n",
        "\n",
        "    # 构建二维拉普拉斯矩阵\n",
        "    A = lap_mat_2d(N)\n",
        "    CA = r * A\n",
        "\n",
        "    # 初始化温度场\n",
        "    u = u_0.copy()\n",
        "    time_steps = int(T / delta_t)\n",
        "\n",
        "    # 时间步进\n",
        "    for t in range(time_steps):\n",
        "        u = exp_timestep_2d(CA, u)\n",
        "        u = boundary_conditions(u, N)\n",
        "\n",
        "        # 检查是否出现非物理解（发散）\n",
        "        if np.any(np.abs(u) > 1e6):  # 假设超过 1e6 表示解发散\n",
        "            return False, r  # 不稳定\n",
        "\n",
        "    return True, r  # 稳定\n",
        "\n",
        "# 参数设置\n",
        "N = 50\n",
        "alpha = 1\n",
        "T = 2\n",
        "u_0 = np.zeros((N, N))\n",
        "u_0[:, 0] = 5\n",
        "u_0 = u_0.flatten()\n",
        "\n",
        "# 测试不同的 delta_t 和 delta_x\n",
        "delta_x = 2 / N\n",
        "delta_t_values = [0.0001, 0.001, 0.01, 0.02]  # 不同的时间步长\n",
        "\n",
        "stability_results = []\n",
        "for delta_t in delta_t_values:\n",
        "    print(f\"Testing with delta_t = {delta_t:.4f}...\")\n",
        "    is_stable, r = solve_2d_heat_stability(u_0, T, delta_x, delta_t, alpha, N)\n",
        "    stability_results.append((delta_t, r, is_stable))\n",
        "\n",
        "# 打印结果\n",
        "print(\"\\nStability Results:\")\n",
        "for delta_t, r, is_stable in stability_results:\n",
        "    status = \"Stable\" if is_stable else \"Unstable\"\n",
        "    print(f\"delta_t = {delta_t:.4f}, r = {r:.4f}, Status: {status}\")\n",
        "\n",
        "# 可视化稳定性分析\n",
        "delta_t_values, r_values, stabilities = zip(*stability_results)\n",
        "stabilities_numeric = [1 if stable else 0 for stable in stabilities]\n",
        "\n",
        "plt.figure(figsize=(8, 5))\n",
        "plt.plot(delta_t_values, stabilities_numeric, marker=\"o\", label=\"Stability\")\n",
        "plt.axhline(0.25, color=\"red\", linestyle=\"--\", label=\"Stability Limit (r=0.25)\")\n",
        "plt.xlabel(\"Time Step (delta_t)\")\n",
        "plt.ylabel(\"Stability (1=Stable, 0=Unstable)\")\n",
        "plt.title(\"Numerical Stability Analysis of Explicit Scheme\")\n",
        "plt.legend()\n",
        "plt.grid()\n",
        "plt.show()\n"
      ],
      "metadata": {
        "colab": {
          "base_uri": "https://localhost:8080/",
          "height": 739
        },
        "id": "lJMkbN15O0aE",
        "outputId": "fa6d01ea-6442-491b-df1f-9ef4574c4776"
      },
      "execution_count": 6,
      "outputs": [
        {
          "output_type": "stream",
          "name": "stdout",
          "text": [
            "Testing with delta_t = 0.0001...\n",
            "Stability parameter r = 0.0625\n",
            "Testing with delta_t = 0.0010...\n",
            "Stability parameter r = 0.6250\n",
            "Testing with delta_t = 0.0100...\n",
            "Stability parameter r = 6.2500\n",
            "Testing with delta_t = 0.0200...\n",
            "Stability parameter r = 12.5000\n",
            "\n",
            "Stability Results:\n",
            "delta_t = 0.0001, r = 0.0625, Status: Stable\n",
            "delta_t = 0.0010, r = 0.6250, Status: Unstable\n",
            "delta_t = 0.0100, r = 6.2500, Status: Unstable\n",
            "delta_t = 0.0200, r = 12.5000, Status: Unstable\n"
          ]
        },
        {
          "output_type": "display_data",
          "data": {
            "text/plain": [
              "<Figure size 800x500 with 1 Axes>"
            ],
            "image/png": "[encoded data removed]"
          },
          "metadata": {}
        }
      ]
    },
    {
      "cell_type": "markdown",
      "source": [
        "Comment: This is the numerical investigation of the stability of the schemes. When the value of r is samller or equals to 0.25, the scheme is stable."
      ],
      "metadata": {
        "id": "naK-B4WhRSV0"
      }
    },
    {
      "cell_type": "code",
      "source": [
        "import numpy as np\n",
        "from numba import cuda\n",
        "\n",
        "@cuda.jit\n",
        "def exp_timestep_2d_kernel(u, u_new, N, r):\n",
        "    i, j = cuda.grid(2)\n",
        "    if 1 <= i < N - 1 and 1 <= j < N - 1:\n",
        "        u_new[i, j] = (\n",
        "            r * (u[i+1, j] + u[i-1, j] + u[i, j+1] + u[i, j-1] - 4 * u[i, j])\n",
        "            + u[i, j]\n",
        "        )\n",
        "\n",
        "@cuda.jit\n",
        "def boundary_conditions_kernel(u, N):\n",
        "    i, j = cuda.grid(2)\n",
        "    if i == 0 or i == N-1 or j == 0 or j == N-1:\n",
        "        if j == 0:\n",
        "            u[i, j] = 5\n",
        "        else:\n",
        "            u[i, j] = 0\n",
        "\n",
        "def solve_2d_heat_exp_GPU(u_0, T, delta_x, delta_t, alpha, N):\n",
        "\n",
        "    r = alpha * delta_t / delta_x**2\n",
        "    if r > 0.25:\n",
        "        raise ValueError(\"Stability condition violated: r > 0.25\")\n",
        "\n",
        "    u = cuda.to_device(u_0)\n",
        "    u_new = cuda.device_array_like(u)\n",
        "\n",
        "    threads_per_block = (16, 16)\n",
        "    threads_per_block = (16, 16)\n",
        "    blocks_per_grid = ((N + threads_per_block[0] - 1) // threads_per_block[0], (N + threads_per_block[1] - 1) // threads_per_block[1])\n",
        "\n",
        "    time_steps = int(T / delta_t)\n",
        "    center_idx = (N // 2, N // 2)\n",
        "    target_time = None\n",
        "\n",
        "    for t in range(time_steps):\n",
        "        boundary_conditions_kernel[blocks_per_grid, threads_per_block](u, N)\n",
        "\n",
        "        exp_timestep_2d_kernel[blocks_per_grid, threads_per_block](u, u_new, N, r)\n",
        "\n",
        "        u, u_new = u_new, u\n",
        "\n",
        "        if target_time is None and u[center_idx] >= 1:\n",
        "            target_time = t * delta_t\n",
        "\n",
        "    u_final = u.copy_to_host()\n",
        "    return target_time"
      ],
      "metadata": {
        "id": "zzLgTRmgUOBb"
      },
      "execution_count": 3,
      "outputs": []
    },
    {
      "cell_type": "code",
      "source": [
        "\n",
        "\n",
        "N = 1000\n",
        "delta_x = 2 / N\n",
        "delta_t = 0.000001\n",
        "alpha = 1\n",
        "T = 2\n",
        "\n",
        "u_0 = np.zeros((N, N), dtype=np.float32)\n",
        "u_0[:, 0] = 5\n",
        "\n",
        "target_time = solve_2d_heat_exp_GPU(u_0, T, delta_x, delta_t, alpha, N)\n",
        "\n",
        "if target_time is not None:\n",
        "    print(f\"The target time t (center reaches u=1) is approximately {target_time:.6f} seconds.\")\n",
        "else:\n",
        "    print(\"The target temperature was not reached within the simulated time.\")\n",
        "\n",
        "\n"
      ],
      "metadata": {
        "colab": {
          "base_uri": "https://localhost:8080/"
        },
        "id": "UHPUg0vI92RV",
        "outputId": "6e9ef319-b812-4338-d0f5-1015e6177a12"
      },
      "execution_count": 3,
      "outputs": [
        {
          "output_type": "stream",
          "name": "stdout",
          "text": [
            "The target time t (center reaches u=1) is approximately 0.424902 seconds.\n"
          ]
        }
      ]
    },
    {
      "cell_type": "markdown",
      "source": [
        "Comment: The code above showed an explicit time-stepping method to solve this heat equation by using GPU."
      ],
      "metadata": {
        "id": "LOxqQ6wXRrNp"
      }
    },
    {
      "cell_type": "code",
      "source": [
        "import numpy as np\n",
        "import matplotlib.pyplot as plt\n",
        "\n",
        "t_real = 0.424011387033\n",
        "\n",
        "grid_sizes = [50, 100, 200, 300, 400, 500, 6000, 700, 800, 900, 1000]\n",
        "t = []\n",
        "\n",
        "for N in grid_sizes:\n",
        "\n",
        "    delta_x = 2 / N\n",
        "    delta_t = 0.000001\n",
        "    alpha = 1\n",
        "    T = 2\n",
        "\n",
        "    u_0 = np.zeros((N, N), dtype=np.float32)\n",
        "    u_0[:, 0] = 5\n",
        "\n",
        "    t_cal = solve_2d_heat_exp_GPU(u_0, T, delta_x, delta_t, alpha, N)\n",
        "\n",
        "    t.append(t_cal)\n",
        "\n",
        "errors = [abs(t_cal - t_real) for t_cal in t]\n",
        "\n",
        "plt.figure(figsize=(8, 5))\n",
        "plt.plot(grid_sizes, errors, marker=\"o\", label=\"Error\")\n",
        "plt.xlabel(\"Grid Size (N)\")\n",
        "plt.ylabel(\"Error\")\n",
        "plt.title(\"Convergence of Computed t* to Actual Time\")\n",
        "plt.xscale(\"log\")\n",
        "plt.yscale(\"log\")\n",
        "plt.legend()\n",
        "plt.grid(True, which=\"both\", linestyle=\"--\", linewidth=0.5)\n",
        "plt.show()\n"
      ],
      "metadata": {
        "colab": {
          "base_uri": "https://localhost:8080/",
          "height": 439
        },
        "id": "s8C2Md2mLIpV",
        "outputId": "5e8da2ae-02a4-44ec-e0a4-7425546f3833"
      },
      "execution_count": 4,
      "outputs": [
        {
          "output_type": "stream",
          "name": "stderr",
          "text": [
            "/usr/local/lib/python3.10/dist-packages/numba/cuda/dispatcher.py:536: NumbaPerformanceWarning: Grid size 16 will likely result in GPU under-utilization due to low occupancy.\n",
            "  warn(NumbaPerformanceWarning(msg))\n",
            "/usr/local/lib/python3.10/dist-packages/numba/cuda/dispatcher.py:536: NumbaPerformanceWarning: Grid size 16 will likely result in GPU under-utilization due to low occupancy.\n",
            "  warn(NumbaPerformanceWarning(msg))\n"
          ]
        },
        {
          "output_type": "error",
          "ename": "KeyboardInterrupt",
          "evalue": "",
          "traceback": [
            "\u001b[0;31m---------------------------------------------------------------------------\u001b[0m",
            "\u001b[0;31mKeyboardInterrupt\u001b[0m                         Traceback (most recent call last)",
            "\u001b[0;32m<ipython-input-4-00b0fac1e7d3>\u001b[0m in \u001b[0;36m<cell line: 9>\u001b[0;34m()\u001b[0m\n\u001b[1;32m     17\u001b[0m     \u001b[0mu_0\u001b[0m\u001b[0;34m[\u001b[0m\u001b[0;34m:\u001b[0m\u001b[0;34m,\u001b[0m \u001b[0;36m0\u001b[0m\u001b[0;34m]\u001b[0m \u001b[0;34m=\u001b[0m \u001b[0;36m5\u001b[0m\u001b[0;34m\u001b[0m\u001b[0;34m\u001b[0m\u001b[0m\n\u001b[1;32m     18\u001b[0m \u001b[0;34m\u001b[0m\u001b[0m\n\u001b[0;32m---> 19\u001b[0;31m     \u001b[0mt_cal\u001b[0m \u001b[0;34m=\u001b[0m \u001b[0msolve_2d_heat_exp_GPU\u001b[0m\u001b[0;34m(\u001b[0m\u001b[0mu_0\u001b[0m\u001b[0;34m,\u001b[0m \u001b[0mT\u001b[0m\u001b[0;34m,\u001b[0m \u001b[0mdelta_x\u001b[0m\u001b[0;34m,\u001b[0m \u001b[0mdelta_t\u001b[0m\u001b[0;34m,\u001b[0m \u001b[0malpha\u001b[0m\u001b[0;34m,\u001b[0m \u001b[0mN\u001b[0m\u001b[0;34m)\u001b[0m\u001b[0;34m\u001b[0m\u001b[0;34m\u001b[0m\u001b[0m\n\u001b[0m\u001b[1;32m     20\u001b[0m \u001b[0;34m\u001b[0m\u001b[0m\n\u001b[1;32m     21\u001b[0m     \u001b[0mt\u001b[0m\u001b[0;34m.\u001b[0m\u001b[0mappend\u001b[0m\u001b[0;34m(\u001b[0m\u001b[0mt_cal\u001b[0m\u001b[0;34m)\u001b[0m\u001b[0;34m\u001b[0m\u001b[0;34m\u001b[0m\u001b[0m\n",
            "\u001b[0;32m<ipython-input-3-2c01b632050a>\u001b[0m in \u001b[0;36msolve_2d_heat_exp_GPU\u001b[0;34m(u_0, T, delta_x, delta_t, alpha, N)\u001b[0m\n\u001b[1;32m     38\u001b[0m \u001b[0;34m\u001b[0m\u001b[0m\n\u001b[1;32m     39\u001b[0m     \u001b[0;32mfor\u001b[0m \u001b[0mt\u001b[0m \u001b[0;32min\u001b[0m \u001b[0mrange\u001b[0m\u001b[0;34m(\u001b[0m\u001b[0mtime_steps\u001b[0m\u001b[0;34m)\u001b[0m\u001b[0;34m:\u001b[0m\u001b[0;34m\u001b[0m\u001b[0;34m\u001b[0m\u001b[0m\n\u001b[0;32m---> 40\u001b[0;31m         \u001b[0mboundary_conditions_kernel\u001b[0m\u001b[0;34m[\u001b[0m\u001b[0mblocks_per_grid\u001b[0m\u001b[0;34m,\u001b[0m \u001b[0mthreads_per_block\u001b[0m\u001b[0;34m]\u001b[0m\u001b[0;34m(\u001b[0m\u001b[0mu\u001b[0m\u001b[0;34m,\u001b[0m \u001b[0mN\u001b[0m\u001b[0;34m)\u001b[0m\u001b[0;34m\u001b[0m\u001b[0;34m\u001b[0m\u001b[0m\n\u001b[0m\u001b[1;32m     41\u001b[0m \u001b[0;34m\u001b[0m\u001b[0m\n\u001b[1;32m     42\u001b[0m         \u001b[0mexp_timestep_2d_kernel\u001b[0m\u001b[0;34m[\u001b[0m\u001b[0mblocks_per_grid\u001b[0m\u001b[0;34m,\u001b[0m \u001b[0mthreads_per_block\u001b[0m\u001b[0;34m]\u001b[0m\u001b[0;34m(\u001b[0m\u001b[0mu\u001b[0m\u001b[0;34m,\u001b[0m \u001b[0mu_new\u001b[0m\u001b[0;34m,\u001b[0m \u001b[0mN\u001b[0m\u001b[0;34m,\u001b[0m \u001b[0mr\u001b[0m\u001b[0;34m)\u001b[0m\u001b[0;34m\u001b[0m\u001b[0;34m\u001b[0m\u001b[0m\n",
            "\u001b[0;32m/usr/local/lib/python3.10/dist-packages/numba/cuda/dispatcher.py\u001b[0m in \u001b[0;36m__call__\u001b[0;34m(self, *args)\u001b[0m\n\u001b[1;32m    537\u001b[0m \u001b[0;34m\u001b[0m\u001b[0m\n\u001b[1;32m    538\u001b[0m     \u001b[0;32mdef\u001b[0m \u001b[0m__call__\u001b[0m\u001b[0;34m(\u001b[0m\u001b[0mself\u001b[0m\u001b[0;34m,\u001b[0m \u001b[0;34m*\u001b[0m\u001b[0margs\u001b[0m\u001b[0;34m)\u001b[0m\u001b[0;34m:\u001b[0m\u001b[0;34m\u001b[0m\u001b[0;34m\u001b[0m\u001b[0m\n\u001b[0;32m--> 539\u001b[0;31m         return self.dispatcher.call(args, self.griddim, self.blockdim,\n\u001b[0m\u001b[1;32m    540\u001b[0m                                     self.stream, self.sharedmem)\n\u001b[1;32m    541\u001b[0m \u001b[0;34m\u001b[0m\u001b[0m\n",
            "\u001b[0;32m/usr/local/lib/python3.10/dist-packages/numba/cuda/dispatcher.py\u001b[0m in \u001b[0;36mcall\u001b[0;34m(self, args, griddim, blockdim, stream, sharedmem)\u001b[0m\n\u001b[1;32m    681\u001b[0m             \u001b[0mkernel\u001b[0m \u001b[0;34m=\u001b[0m \u001b[0m_dispatcher\u001b[0m\u001b[0;34m.\u001b[0m\u001b[0mDispatcher\u001b[0m\u001b[0;34m.\u001b[0m\u001b[0m_cuda_call\u001b[0m\u001b[0;34m(\u001b[0m\u001b[0mself\u001b[0m\u001b[0;34m,\u001b[0m \u001b[0;34m*\u001b[0m\u001b[0margs\u001b[0m\u001b[0;34m)\u001b[0m\u001b[0;34m\u001b[0m\u001b[0;34m\u001b[0m\u001b[0m\n\u001b[1;32m    682\u001b[0m \u001b[0;34m\u001b[0m\u001b[0m\n\u001b[0;32m--> 683\u001b[0;31m         \u001b[0mkernel\u001b[0m\u001b[0;34m.\u001b[0m\u001b[0mlaunch\u001b[0m\u001b[0;34m(\u001b[0m\u001b[0margs\u001b[0m\u001b[0;34m,\u001b[0m \u001b[0mgriddim\u001b[0m\u001b[0;34m,\u001b[0m \u001b[0mblockdim\u001b[0m\u001b[0;34m,\u001b[0m \u001b[0mstream\u001b[0m\u001b[0;34m,\u001b[0m \u001b[0msharedmem\u001b[0m\u001b[0;34m)\u001b[0m\u001b[0;34m\u001b[0m\u001b[0;34m\u001b[0m\u001b[0m\n\u001b[0m\u001b[1;32m    684\u001b[0m \u001b[0;34m\u001b[0m\u001b[0m\n\u001b[1;32m    685\u001b[0m     \u001b[0;32mdef\u001b[0m \u001b[0m_compile_for_args\u001b[0m\u001b[0;34m(\u001b[0m\u001b[0mself\u001b[0m\u001b[0;34m,\u001b[0m \u001b[0;34m*\u001b[0m\u001b[0margs\u001b[0m\u001b[0;34m,\u001b[0m \u001b[0;34m**\u001b[0m\u001b[0mkws\u001b[0m\u001b[0;34m)\u001b[0m\u001b[0;34m:\u001b[0m\u001b[0;34m\u001b[0m\u001b[0;34m\u001b[0m\u001b[0m\n",
            "\u001b[0;32m/usr/local/lib/python3.10/dist-packages/numba/cuda/dispatcher.py\u001b[0m in \u001b[0;36mlaunch\u001b[0;34m(self, args, griddim, blockdim, stream, sharedmem)\u001b[0m\n\u001b[1;32m    315\u001b[0m         \u001b[0mkernelargs\u001b[0m \u001b[0;34m=\u001b[0m \u001b[0;34m[\u001b[0m\u001b[0;34m]\u001b[0m\u001b[0;34m\u001b[0m\u001b[0;34m\u001b[0m\u001b[0m\n\u001b[1;32m    316\u001b[0m         \u001b[0;32mfor\u001b[0m \u001b[0mt\u001b[0m\u001b[0;34m,\u001b[0m \u001b[0mv\u001b[0m \u001b[0;32min\u001b[0m \u001b[0mzip\u001b[0m\u001b[0;34m(\u001b[0m\u001b[0mself\u001b[0m\u001b[0;34m.\u001b[0m\u001b[0margument_types\u001b[0m\u001b[0;34m,\u001b[0m \u001b[0margs\u001b[0m\u001b[0;34m)\u001b[0m\u001b[0;34m:\u001b[0m\u001b[0;34m\u001b[0m\u001b[0;34m\u001b[0m\u001b[0m\n\u001b[0;32m--> 317\u001b[0;31m             \u001b[0mself\u001b[0m\u001b[0;34m.\u001b[0m\u001b[0m_prepare_args\u001b[0m\u001b[0;34m(\u001b[0m\u001b[0mt\u001b[0m\u001b[0;34m,\u001b[0m \u001b[0mv\u001b[0m\u001b[0;34m,\u001b[0m \u001b[0mstream\u001b[0m\u001b[0;34m,\u001b[0m \u001b[0mretr\u001b[0m\u001b[0;34m,\u001b[0m \u001b[0mkernelargs\u001b[0m\u001b[0;34m)\u001b[0m\u001b[0;34m\u001b[0m\u001b[0;34m\u001b[0m\u001b[0m\n\u001b[0m\u001b[1;32m    318\u001b[0m \u001b[0;34m\u001b[0m\u001b[0m\n\u001b[1;32m    319\u001b[0m         \u001b[0;32mif\u001b[0m \u001b[0mdriver\u001b[0m\u001b[0;34m.\u001b[0m\u001b[0mUSE_NV_BINDING\u001b[0m\u001b[0;34m:\u001b[0m\u001b[0;34m\u001b[0m\u001b[0;34m\u001b[0m\u001b[0m\n",
            "\u001b[0;32m/usr/local/lib/python3.10/dist-packages/numba/cuda/dispatcher.py\u001b[0m in \u001b[0;36m_prepare_args\u001b[0;34m(self, ty, val, stream, retr, kernelargs)\u001b[0m\n\u001b[1;32m    394\u001b[0m             \u001b[0mitemsize\u001b[0m \u001b[0;34m=\u001b[0m \u001b[0mc_intp\u001b[0m\u001b[0;34m(\u001b[0m\u001b[0mdevary\u001b[0m\u001b[0;34m.\u001b[0m\u001b[0mdtype\u001b[0m\u001b[0;34m.\u001b[0m\u001b[0mitemsize\u001b[0m\u001b[0;34m)\u001b[0m\u001b[0;34m\u001b[0m\u001b[0;34m\u001b[0m\u001b[0m\n\u001b[1;32m    395\u001b[0m \u001b[0;34m\u001b[0m\u001b[0m\n\u001b[0;32m--> 396\u001b[0;31m             \u001b[0mptr\u001b[0m \u001b[0;34m=\u001b[0m \u001b[0mdriver\u001b[0m\u001b[0;34m.\u001b[0m\u001b[0mdevice_pointer\u001b[0m\u001b[0;34m(\u001b[0m\u001b[0mdevary\u001b[0m\u001b[0;34m)\u001b[0m\u001b[0;34m\u001b[0m\u001b[0;34m\u001b[0m\u001b[0m\n\u001b[0m\u001b[1;32m    397\u001b[0m \u001b[0;34m\u001b[0m\u001b[0m\n\u001b[1;32m    398\u001b[0m             \u001b[0;32mif\u001b[0m \u001b[0mdriver\u001b[0m\u001b[0;34m.\u001b[0m\u001b[0mUSE_NV_BINDING\u001b[0m\u001b[0;34m:\u001b[0m\u001b[0;34m\u001b[0m\u001b[0;34m\u001b[0m\u001b[0m\n",
            "\u001b[0;32m/usr/local/lib/python3.10/dist-packages/numba/cuda/cudadrv/driver.py\u001b[0m in \u001b[0;36mdevice_pointer\u001b[0;34m(obj)\u001b[0m\n\u001b[1;32m   3079\u001b[0m         \u001b[0;32mreturn\u001b[0m \u001b[0mobj\u001b[0m\u001b[0;34m.\u001b[0m\u001b[0mdevice_ctypes_pointer\u001b[0m\u001b[0;34m\u001b[0m\u001b[0;34m\u001b[0m\u001b[0m\n\u001b[1;32m   3080\u001b[0m     \u001b[0;32melse\u001b[0m\u001b[0;34m:\u001b[0m\u001b[0;34m\u001b[0m\u001b[0;34m\u001b[0m\u001b[0m\n\u001b[0;32m-> 3081\u001b[0;31m         \u001b[0;32mreturn\u001b[0m \u001b[0mdevice_ctypes_pointer\u001b[0m\u001b[0;34m(\u001b[0m\u001b[0mobj\u001b[0m\u001b[0;34m)\u001b[0m\u001b[0;34m.\u001b[0m\u001b[0mvalue\u001b[0m\u001b[0;34m\u001b[0m\u001b[0;34m\u001b[0m\u001b[0m\n\u001b[0m\u001b[1;32m   3082\u001b[0m \u001b[0;34m\u001b[0m\u001b[0m\n\u001b[1;32m   3083\u001b[0m \u001b[0;34m\u001b[0m\u001b[0m\n",
            "\u001b[0;31mKeyboardInterrupt\u001b[0m: "
          ]
        }
      ]
    },
    {
      "cell_type": "markdown",
      "source": [
        "Comment: Here is the plot about the convergence of computed time t against the actual time."
      ],
      "metadata": {
        "id": "sHhS1vglRw_H"
      }
    },
    {
      "cell_type": "code",
      "source": [
        "import numpy as np\n",
        "from numba import cuda\n",
        "import matplotlib.pyplot as plt\n",
        "\n",
        "# CUDA 内核：显式时间步进\n",
        "@cuda.jit\n",
        "def explicit_timestep_2d_kernel(u, u_new, N, r):\n",
        "    \"\"\"\n",
        "    使用显式方法在 GPU 上更新二维网格的温度值。\n",
        "    \"\"\"\n",
        "    i, j = cuda.grid(2)  # 获取当前线程的二维索引\n",
        "    if 1 <= i < N - 1 and 1 <= j < N - 1:  # 确保只更新内部点\n",
        "        u_new[i, j] = (\n",
        "            r * (u[i+1, j] + u[i-1, j] + u[i, j+1] + u[i, j-1] - 4 * u[i, j])\n",
        "            + u[i, j]\n",
        "        )\n",
        "\n",
        "# 边界条件更新\n",
        "@cuda.jit\n",
        "def apply_boundary_conditions_kernel(u, N):\n",
        "    \"\"\"\n",
        "    在 GPU 上设置边界条件。\n",
        "    \"\"\"\n",
        "    i, j = cuda.grid(2)\n",
        "    if i == 0 or i == N-1 or j == 0 or j == N-1:\n",
        "        if j == 0:  # 左边界\n",
        "            u[i, j] = 5\n",
        "        else:  # 其他边界\n",
        "            u[i, j] = 0\n",
        "\n",
        "# 主函数：测试显式方法的稳定性\n",
        "def solve_2d_heat_stability_gpu(T, delta_x, delta_t, alpha, N):\n",
        "    \"\"\"\n",
        "    用显式方法在 GPU 上求解二维热方程，并测试稳定性。\n",
        "    \"\"\"\n",
        "    r = alpha * delta_t / delta_x**2\n",
        "    print(f\"Stability parameter r = {r:.4f}\")\n",
        "\n",
        "    # 初始化 GPU 数组\n",
        "    u = cuda.to_device(np.zeros((N, N), dtype=np.float32))\n",
        "    u_new = cuda.device_array_like(u)\n",
        "\n",
        "    # 设置线程块和网格\n",
        "    threads_per_block = (16, 16)\n",
        "    blocks_per_grid = (\n",
        "        (N + threads_per_block[0] - 1) // threads_per_block[0],\n",
        "        (N + threads_per_block[1] - 1) // threads_per_block[1]\n",
        "    )\n",
        "\n",
        "    # 时间步进\n",
        "    time_steps = int(T / delta_t)\n",
        "    for t in range(time_steps):\n",
        "        # 更新边界条件\n",
        "        apply_boundary_conditions_kernel[blocks_per_grid, threads_per_block](u, N)\n",
        "\n",
        "        # 显式时间步进\n",
        "        explicit_timestep_2d_kernel[blocks_per_grid, threads_per_block](u, u_new, N, r)\n",
        "\n",
        "        # 交换新旧数组\n",
        "        u, u_new = u_new, u\n",
        "\n",
        "        # 检查稳定性\n",
        "        if np.any(np.abs(u.copy_to_host()) > 1e6):  # 假设超过 1e6 表示解发散\n",
        "            return False, r  # 不稳定\n",
        "\n",
        "    return True, r  # 稳定\n",
        "\n",
        "# 测试不同的 delta_t\n",
        "N = 100  # 网格大小\n",
        "alpha = 1\n",
        "T = 0.5\n",
        "delta_x = 2 / N\n",
        "delta_t_values = [0.0001, 0.001, 0.01, 0.02]  # 时间步长列表\n",
        "\n",
        "stability_results = []\n",
        "for delta_t in delta_t_values:\n",
        "    print(f\"Testing with delta_t = {delta_t:.4f}...\")\n",
        "    is_stable, r = solve_2d_heat_stability_gpu(T, delta_x, delta_t, alpha, N)\n",
        "    stability_results.append((delta_t, r, is_stable))\n",
        "\n",
        "# 打印结果\n",
        "print(\"\\nStability Results:\")\n",
        "for delta_t, r, is_stable in stability_results:\n",
        "    status = \"Stable\" if is_stable else \"Unstable\"\n",
        "    print(f\"delta_t = {delta_t:.4f}, r = {r:.4f}, Status: {status}\")\n",
        "\n",
        "# 可视化稳定性分析\n",
        "delta_t_values, r_values, stabilities = zip(*stability_results)\n",
        "stabilities_numeric = [1 if stable else 0 for stable in stabilities]\n",
        "\n",
        "plt.figure(figsize=(8, 5))\n",
        "plt.plot(delta_t_values, stabilities_numeric, marker=\"o\", label=\"Stability\")\n",
        "plt.axhline(0.25, color=\"red\", linestyle=\"--\", label=\"Stability Limit (r=0.25)\")\n",
        "plt.xlabel(\"Time Step (delta_t)\")\n",
        "plt.ylabel(\"Stability (1=Stable, 0=Unstable)\")\n",
        "plt.title(\"Numerical Stability Analysis of Explicit Scheme (GPU)\")\n",
        "plt.legend()\n",
        "plt.grid()\n",
        "plt.show()\n"
      ],
      "metadata": {
        "id": "pFCwBaQCSEV-"
      },
      "execution_count": null,
      "outputs": []
    },
    {
      "cell_type": "markdown",
      "source": [
        "Comment: This is the numerical investigation of the stability of the schemes."
      ],
      "metadata": {
        "id": "jWKuF-aCR-2d"
      }
    },
    {
      "cell_type": "code",
      "source": [],
      "metadata": {
        "id": "XRfvavPXQqBF"
      },
      "execution_count": null,
      "outputs": []
    }
  ]
}